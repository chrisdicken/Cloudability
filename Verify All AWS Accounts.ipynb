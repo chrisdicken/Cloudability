{
 "cells": [
  {
   "cell_type": "code",
   "execution_count": 12,
   "metadata": {
    "scrolled": true
   },
   "outputs": [],
   "source": [
    "#This script is used to verify advanced features have been setup in your Cloudability account\n",
    "#The script first pulls a list off accounts and then verifies each one via a loop\n",
    "#This was written in Python on Jupyter Notebooks via the Aanaconda Distribution using the standard libraries\n",
    "#It should be fairly simplisitc to translate to any Python CLI\n",
    "\n",
    "#to verify all AWS accounts enter your Cloudability API token below and run code\n",
    "\n",
    "\n",
    "#########--Variables--#########\n",
    "\n",
    "#please enter your cloudy token\n",
    "token = \"exampletoken\"\n"
   ]
  },
  {
   "cell_type": "code",
   "execution_count": null,
   "metadata": {},
   "outputs": [],
   "source": [
    "###libraries\n",
    "import pandas as pd\n",
    "import requests \n",
    "import base64\n",
    "from pandas.io.json import json_normalize\n",
    "pd.set_option('display.max_colwidth', -1)\n",
    "from IPython.core.display import display, HTML\n",
    "display(HTML(\"<style>.container { width:100% !important; }</style>\"))\n",
    "\n",
    "#encode token for html\n",
    "token2 = token+\":\"\n",
    "message_bytes = token2.encode('ascii')\n",
    "base64_bytes = base64.b64encode(message_bytes)\n",
    "base64_message = base64_bytes.decode('ascii')\n",
    "\n",
    "#define headers for CURL query\n",
    "url = 'https://api.cloudability.com/v3/vendors/aws/accounts'\n",
    "payload  = {}\n",
    "headers = {\n",
    "  'Content-Type': 'application/json',\n",
    "  'Authorization': 'Basic '+base64_message\n",
    "}\n",
    "\n",
    "#perform query, get all infomration for all AWS accounts\n",
    "response = requests.request(\"GET\", url, headers=headers, data = payload)\n",
    "print(\"response code data pull: \"+str(response.status_code))\n",
    "\n",
    "#convert to dataframe (table) based upon whether its v1 or v3\n",
    "if \"v3\" in url:\n",
    "    df = json_normalize(response.json(), record_path=['result'])\n",
    "else:\n",
    "    df = json_normalize(response.json())\n",
    "\n",
    "\n",
    "#loop through all accounts and run verification, the advanced feature status in cloudability will now display green or red if role successfully setup\n",
    "for x in df[\"id\"]:\n",
    "    url_loop = 'https://api.cloudability.com/v3/vendors/AWS/accounts/'+x+'/verification'\n",
    "    payload  = ''\n",
    "    response = requests.request(\"POST\", url_loop, headers=headers, data = payload)\n",
    "    print(x+\" response code: \"+str(response.status_code))\n",
    "\n",
    "print(\"End\")"
   ]
  },
  {
   "cell_type": "code",
   "execution_count": null,
   "metadata": {},
   "outputs": [],
   "source": []
  }
 ],
 "metadata": {
  "kernelspec": {
   "display_name": "Python 3",
   "language": "python",
   "name": "python3"
  },
  "language_info": {
   "codemirror_mode": {
    "name": "ipython",
    "version": 3
   },
   "file_extension": ".py",
   "mimetype": "text/x-python",
   "name": "python",
   "nbconvert_exporter": "python",
   "pygments_lexer": "ipython3",
   "version": "3.7.4"
  }
 },
 "nbformat": 4,
 "nbformat_minor": 4
}
