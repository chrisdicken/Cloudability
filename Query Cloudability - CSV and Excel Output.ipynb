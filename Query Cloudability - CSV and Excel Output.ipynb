{
 "cells": [
  {
   "cell_type": "markdown",
   "metadata": {},
   "source": [
    "# Query Cloudability - CSV and Excel Output\n",
    "\n",
    "Querying an API and dealing with a JSON response can be cumbersome, so this script makes it easy.\n",
    "\n",
    "Enter your desired Query URL and Token then press run and you will get a CSV and Excel output of the response. \n",
    "\n",
   
   ]
  },
  {
   "cell_type": "code",
   "execution_count": null,
   "metadata": {},
   "outputs": [],
   "source": [
    "### Choose your URL\n",
    "\n",
    "#all tags and cost dimensions = https://app.cloudability.com/api/1/reporting/cost/measures\n",
    "#all account groups = https://app.cloudability.com/api/1/account_groups\n",
    "#all bus metrics = https://api.cloudability.com/v3/business-mappings/metrics\n",
    "#GET and POST requests aws accounts = https://api.cloudability.com/v3/vendors/aws/accounts\n",
    "#GET and POST azure accounts request = https://api.cloudability.com/v3/vendors/azure/accounts\n",
    "#Get containers \"https://api.cloudability.com/v3/containers/provisioning?pretty\"\n",
    "#Get Forecasts https://api.cloudability.com/v3/forecast?basis=cash&monthsForward=12&monthsBack=6&viewId=0\n",
    "#Get Budgets https://api.cloudability.com/v3/budgets\n",
    "\n",
    "\n",
    "###Enter details below\n",
    "url = 'https://api.cloudability.com/v3/budgets'\n",
    "\n",
    "token = \"exampletoken\"\n"
   ]
  },
  {
   "cell_type": "code",
   "execution_count": null,
   "metadata": {},
   "outputs": [],
   "source": [
    "import pandas as pd\n",
    "import requests \n",
    "import base64\n",
    "from pandas.io.json import json_normalize\n",
    "pd.set_option('display.max_colwidth', -1)\n",
    "from IPython.core.display import display, HTML\n",
    "display(HTML(\"<style>.container { width:100% !important; }</style>\"))\n",
    "\n",
    "########--Variables--########\n",
    "\n",
    "#encode token for html\n",
    "token2 = token+\":\"\n",
    "message_bytes = token2.encode('ascii')\n",
    "base64_bytes = base64.b64encode(message_bytes)\n",
    "base64_message = base64_bytes.decode('ascii')\n",
    "#API details\n",
    "headers = {\n",
    "  'Content-Type': 'application/json',\n",
    "  'Authorization': 'Basic '+base64_message\n",
    "}\n",
    "\n",
    "########--Functions--########\n",
    "\n",
    "#query cloudability, returns dataframe (table)\n",
    "def Query_Cloudability(url, headers, payload):\n",
    "    response = requests.request(\"GET\", url, headers=headers, data = payload)\n",
    "    print(\"response code data pull: \"+str(response.status_code))\n",
    "    if  \"forecast\" in url:\n",
    "        df = json_normalize(json.loads(response.text)[\"result\"])[[\"parameters.monthsBack\", \"parameters.monthsForward\", \"forecastTotal\", \"currentEstimate\"]]\n",
    "    elif \"v3\" in url:\n",
    "        df = json_normalize(response.json(), record_path=['result'])\n",
    "    else:\n",
    "        df = json_normalize(response.json())\n",
    "    return df\n",
    "\n",
    "########--Code--########\n",
    "\n",
    "#Perform Query\n",
    "df = Query_Cloudability(url, headers, '')\n",
    "\n",
    "df.to_csv(\"CLDY_Query_Output.csv\", header = \"True\", index= \"False\")\n",
    "df.to_excel(\"CLDY_Query_Output.xlsx\", header =  \"True\", index = \"False\")\n",
    "\n",
    "df"
   ]
  }
 ],
 "metadata": {
  "kernelspec": {
   "display_name": "Python 3",
   "language": "python",
   "name": "python3"
  },
  "language_info": {
   "codemirror_mode": {
    "name": "ipython",
    "version": 3
   },
   "file_extension": ".py",
   "mimetype": "text/x-python",
   "name": "python",
   "nbconvert_exporter": "python",
   "pygments_lexer": "ipython3",
   "version": "3.7.4"
  }
 },
 "nbformat": 4,
 "nbformat_minor": 4
}
